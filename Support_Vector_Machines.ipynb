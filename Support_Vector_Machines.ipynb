{
 "cells": [
  {
   "cell_type": "code",
   "execution_count": 29,
   "metadata": {},
   "outputs": [],
   "source": [
    "# Import necessary libraries\n",
    "from sklearn.datasets import load_breast_cancer\n",
    "cancer = load_breast_cancer()  # Load the breast cancer dataset from sklearn"
   ]
  },
  {
   "cell_type": "code",
   "execution_count": 30,
   "metadata": {},
   "outputs": [],
   "source": [
    "# We will split the data into training and testing sets\n",
    "from sklearn.model_selection import train_test_split\n",
    "\n",
    "# train_test_split is used to split the dataset into training and testing sets. \n",
    "# We use random_state=0 to make sure the splits are the same each time the code is run (for reproducibility).\n",
    "x_train, x_test, y_train, y_test = train_test_split(cancer.data, cancer.target, random_state=0)"
   ]
  },
  {
   "cell_type": "code",
   "execution_count": 31,
   "metadata": {},
   "outputs": [],
   "source": [
    "# Importing the Support Vector Classifier (SVC) algorithm\n",
    "from sklearn.svm import SVC\n",
    "\n",
    "# Create a Support Vector Classifier model with 'gamma' set to 'auto'. \n",
    "# 'gamma' is a parameter that controls the complexity of the decision boundary. \n",
    "# By setting 'gamma' to 'auto', we're allowing sklearn to choose a reasonable default value.\n",
    "svc = SVC(gamma='auto').fit(x_train, y_train)"
   ]
  },
  {
   "cell_type": "code",
   "execution_count": 32,
   "metadata": {},
   "outputs": [
    {
     "name": "stdout",
     "output_type": "stream",
     "text": [
      "1.0\n",
      "0.6293706293706294\n"
     ]
    }
   ],
   "source": [
    "# Print the accuracy score of the model on the training and test data\n",
    "print(svc.score(x_train, y_train))  # Accuracy on training data\n",
    "print(svc.score(x_test, y_test))    # Accuracy on test data"
   ]
  },
  {
   "cell_type": "code",
   "execution_count": 33,
   "metadata": {},
   "outputs": [],
   "source": [
    "# Find the minimum value for each feature in the training set\n",
    "min_on_training = x_train.min(axis=0)"
   ]
  },
  {
   "cell_type": "code",
   "execution_count": 34,
   "metadata": {},
   "outputs": [],
   "source": [
    "# Find the range (maximum value - minimum value) of each feature in the training set\n",
    "range_on_training = (x_train - min_on_training).max(axis=0)"
   ]
  },
  {
   "cell_type": "code",
   "execution_count": 35,
   "metadata": {},
   "outputs": [],
   "source": [
    "# Normalize the training data by subtracting the min value and dividing by the range\n",
    "x_train_scaled = (x_train - min_on_training) / range_on_training\n",
    "\n",
    "# Apply the same scaling to the test data using the minimum and range calculated from the training data\n",
    "x_test_scaled = (x_test - min_on_training) / range_on_training"
   ]
  },
  {
   "cell_type": "code",
   "execution_count": 36,
   "metadata": {},
   "outputs": [
    {
     "name": "stdout",
     "output_type": "stream",
     "text": [
      "0.9483568075117371\n",
      "0.951048951048951\n"
     ]
    }
   ],
   "source": [
    "# Now we create a new SVC model with the normalized data and fit it to the training data\n",
    "svc = SVC(gamma='auto').fit(x_train_scaled, y_train)\n",
    "\n",
    "# Print the accuracy scores of the model on the scaled training and test data\n",
    "print(svc.score(x_train_scaled, y_train))  # Accuracy on training data (scaled)\n",
    "print(svc.score(x_test_scaled, y_test))    # Accuracy on test data (scaled)"
   ]
  },
  {
   "cell_type": "code",
   "execution_count": 37,
   "metadata": {},
   "outputs": [
    {
     "name": "stdout",
     "output_type": "stream",
     "text": [
      "0.9882629107981221\n",
      "0.972027972027972\n"
     ]
    }
   ],
   "source": [
    "# Let's now experiment with a different value for 'C' (a regularization parameter).\n",
    "# 'C' determines how much we penalize the model for misclassifications. A high C value results in a model that fits the training data more tightly (lower bias, higher variance).\n",
    "svc = SVC(C=1000, gamma='auto').fit(x_train_scaled, y_train)\n",
    "\n",
    "# Print the accuracy scores of the model on the training and test data with the new 'C' value\n",
    "print(svc.score(x_train_scaled, y_train))  # Accuracy on training data (with C=1000)\n",
    "print(svc.score(x_test_scaled, y_test))    # Accuracy on test data (with C=1000)"
   ]
  }
 ],
 "metadata": {
  "kernelspec": {
   "display_name": "Python 3",
   "language": "python",
   "name": "python3"
  },
  "language_info": {
   "codemirror_mode": {
    "name": "ipython",
    "version": 3
   },
   "file_extension": ".py",
   "mimetype": "text/x-python",
   "name": "python",
   "nbconvert_exporter": "python",
   "pygments_lexer": "ipython3",
   "version": "3.12.6"
  }
 },
 "nbformat": 4,
 "nbformat_minor": 2
}
