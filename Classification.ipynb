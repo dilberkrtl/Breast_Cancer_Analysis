{
 "cells": [
  {
   "cell_type": "code",
   "execution_count": 1,
   "metadata": {},
   "outputs": [],
   "source": [
    "from sklearn.datasets import load_breast_cancer\n",
    "cancer=load_breast_cancer()"
   ]
  },
  {
   "cell_type": "code",
   "execution_count": 2,
   "metadata": {},
   "outputs": [],
   "source": [
    "from sklearn.model_selection import train_test_split"
   ]
  },
  {
   "cell_type": "code",
   "execution_count": 3,
   "metadata": {},
   "outputs": [],
   "source": [
    "x_train, x_test, y_train, y_test = train_test_split(cancer.data, cancer.target, stratify=cancer.target, random_state=42)"
   ]
  },
  {
   "cell_type": "code",
   "execution_count": 4,
   "metadata": {},
   "outputs": [],
   "source": [
    "from sklearn.linear_model import LogisticRegression"
   ]
  },
  {
   "cell_type": "code",
   "execution_count": 5,
   "metadata": {},
   "outputs": [
    {
     "name": "stdout",
     "output_type": "stream",
     "text": [
      "0.9530516431924883\n",
      "0.958041958041958\n"
     ]
    }
   ],
   "source": [
    "logreg=LogisticRegression(solver='liblinear').fit(x_train, y_train)\n",
    "print(logreg.score(x_train,y_train))\n",
    "print(logreg.score(x_test,y_test))"
   ]
  },
  {
   "cell_type": "code",
   "execution_count": 6,
   "metadata": {},
   "outputs": [
    {
     "name": "stdout",
     "output_type": "stream",
     "text": [
      "0.9671361502347418\n",
      "0.965034965034965\n"
     ]
    }
   ],
   "source": [
    "logreg100=LogisticRegression(C=100, solver='liblinear').fit(x_train, y_train)\n",
    "print(logreg100.score(x_train,y_train))\n",
    "print(logreg100.score(x_test,y_test))"
   ]
  },
  {
   "cell_type": "code",
   "execution_count": 7,
   "metadata": {},
   "outputs": [
    {
     "name": "stdout",
     "output_type": "stream",
     "text": [
      "0.9342723004694836\n",
      "0.9300699300699301\n"
     ]
    }
   ],
   "source": [
    "logreg001=LogisticRegression(C=0.01, solver='liblinear').fit(x_train, y_train)\n",
    "print(logreg001.score(x_train,y_train))\n",
    "print(logreg001.score(x_test,y_test))"
   ]
  },
  {
   "cell_type": "code",
   "execution_count": 8,
   "metadata": {},
   "outputs": [
    {
     "name": "stdout",
     "output_type": "stream",
     "text": [
      "For C=0.001, training accuracy: 0.91\n",
      "For C=0.001, test accuracy: 0.92\n",
      "For C=1.000, training accuracy: 0.96\n",
      "For C=1.000, test accuracy: 0.96\n",
      "For C=100.000, training accuracy: 0.99\n",
      "For C=100.000, test accuracy: 0.98\n"
     ]
    }
   ],
   "source": [
    "for C, market in zip([0.001,1,100],['o','^','v']):\n",
    "    logreg11 = LogisticRegression(penalty='l1', max_iter=1000, solver='liblinear', C=C).fit(x_train, y_train)\n",
    "    print('For C={:.3f}, training accuracy: {:.2f}'.format(C, logreg11.score(x_train, y_train)))\n",
    "    print('For C={:.3f}, test accuracy: {:.2f}'.format(C, logreg11.score(x_test, y_test)))"
   ]
  }
 ],
 "metadata": {
  "kernelspec": {
   "display_name": "Python 3",
   "language": "python",
   "name": "python3"
  },
  "language_info": {
   "codemirror_mode": {
    "name": "ipython",
    "version": 3
   },
   "file_extension": ".py",
   "mimetype": "text/x-python",
   "name": "python",
   "nbconvert_exporter": "python",
   "pygments_lexer": "ipython3",
   "version": "3.12.6"
  }
 },
 "nbformat": 4,
 "nbformat_minor": 2
}
